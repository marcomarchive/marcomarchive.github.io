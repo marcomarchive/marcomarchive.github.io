{
 "cells": [
  {
   "cell_type": "markdown",
   "id": "0a2fc174-9fc6-4b8c-acdc-9702adbf0af9",
   "metadata": {},
   "source": [
    "# Momentum strategy\n",
    "This strategy consists of ranking the SP500 stocks according to their performance up to a given date, and invest by going long the best performing ones and short the ones with the worst performance."
   ]
  },
  {
   "cell_type": "code",
   "execution_count": 1,
   "id": "a1f2f831",
   "metadata": {},
   "outputs": [],
   "source": [
    "import numpy as np\n",
    "import pandas as pd\n",
    "import matplotlib.pyplot as plt\n",
    "\n",
    "import datetime as dt\n",
    "from dateutil.relativedelta import relativedelta\n",
    "\n",
    "import yfinance as yf\n",
    "import pandas_ta as ta\n",
    "import mplfinance as mpf\n",
    "#import pandas_datareader.data as web\n",
    "%run functions.ipynb"
   ]
  },
  {
   "cell_type": "code",
   "execution_count": 2,
   "id": "855f4b61",
   "metadata": {},
   "outputs": [],
   "source": [
    "tickers=pd.read_html('https://en.wikipedia.org/wiki/List_of_S%26P_500_companies')[0]\n",
    "tickers=tickers.Symbol.to_list()\n",
    "#tickers=tickers[:10]\n",
    "start='2021-01-01'\n",
    "end='2023-01-01'\n",
    "#end=dt.date.today()\n",
    "#start=end-relativedelta(years=1)\n",
    "simulation_end=pd.to_datetime(end)-relativedelta(years=1)"
   ]
  },
  {
   "cell_type": "code",
   "execution_count": 3,
   "id": "8e5f89ec",
   "metadata": {},
   "outputs": [
    {
     "name": "stderr",
     "output_type": "stream",
     "text": [
      "[*********************100%%**********************]  506 of 506 completed\n",
      "\n",
      "6 Failed downloads:\n",
      "['BRK.B']: Exception('%ticker%: No timezone found, symbol may be delisted')\n",
      "['KVUE', 'SOLV', 'GEV', 'VLTO']: Exception(\"%ticker%: Data doesn't exist for startDate = 1609477200, endDate = 1672549200\")\n",
      "['BF.B']: Exception('%ticker%: No price data found, symbol may be delisted (1d 2021-01-01 -> 2023-01-01)')\n"
     ]
    }
   ],
   "source": [
    "df=yf.download(tickers=tickers+['SPY'], start=start, end=end)"
   ]
  },
  {
   "cell_type": "code",
   "execution_count": 4,
   "id": "1dc8b99d",
   "metadata": {},
   "outputs": [],
   "source": [
    "idx=pd.IndexSlice\n",
    "stocks=df.stack(level=1).reorder_levels([1,0])\n",
    "stocks.index=stocks.index.set_names(['Symbol','Date'])\n",
    "\n",
    "spy=stocks.loc[idx['SPY',:]]\n",
    "stocks=stocks.drop('SPY',level=0,axis=0)"
   ]
  },
  {
   "cell_type": "code",
   "execution_count": 5,
   "id": "8da1f3b0-1e1d-4388-b603-8cd2d33e7a58",
   "metadata": {},
   "outputs": [],
   "source": [
    "close=stocks.Close\n",
    "close.sort_index(level=[0,1])\n",
    "close=close.reorder_levels([1,0])\n",
    "close_past=close.loc[idx[:simulation_end,:]]  #reorder because loc doesn't work on second level of multiindex\n",
    "close_now=close.loc[idx[simulation_end:,:]]\n",
    "\n",
    "#monthly returns in the past\n",
    "monthly_stock_past=close_past.groupby(['Symbol', pd.Grouper(freq='M',level=0)])\\\n",
    "                         .apply(lambda x: np.exp(log_ret(x).sum()))\n",
    "\n",
    "\n",
    "#average monthly return for each asset, in the past period\n",
    "monthly_stock_past=pd.DataFrame(monthly_stock_past)\n",
    "avg_stock_past=monthly_stock_past.Close.groupby('Symbol').apply(lambda x: np.exp(np.log(x).mean()))\n",
    "avg_stock_past=avg_stock_past.to_frame()\n",
    "\n",
    "\n",
    "#Divide stocks into best and worst according to average monthly return\n",
    "quantile=10\n",
    "avg_stock_past['Quantile']=pd.qcut(avg_stock_past.squeeze(),quantile,labels=False)\n",
    "\n",
    "winners=avg_stock_past[avg_stock_past.Quantile==quantile-1].Close\n",
    "losers=avg_stock_past[avg_stock_past.Quantile==0].Close\n",
    "\n",
    "\n",
    "\n",
    "#returns of an equally weighted portfolio of each of the two groups\n",
    "winners_past_ret=winners.mean()\n",
    "losers_past_ret=losers.mean()\n",
    "\n",
    "#total return in the past period\n",
    "total_past_ret=1+(winners_past_ret-1)-(losers_past_ret-1)\n",
    "\n",
    "\n",
    "\n",
    "\n",
    "#Compute average monthly return of the strategy on the new (test) period:\n",
    "\n",
    "winners_list=winners.index.get_level_values(level=0).to_list()\n",
    "losers_list =losers.index.get_level_values(level=0).to_list()\n",
    "\n",
    "winners_ret=close.loc[idx[simulation_end:,winners_list]]\\\n",
    "            .groupby(['Symbol',pd.Grouper(freq='M',level=0)])\\\n",
    "            .apply(lambda x: np.exp(log_ret(x).sum()))\\\n",
    "            .mean()\n",
    "\n",
    "losers_ret=close.loc[idx[simulation_end:,losers_list]]\\\n",
    "            .groupby('Symbol')\\\n",
    "            .apply(lambda x: np.exp(log_ret(x).sum()))\\\n",
    "            .mean()\n",
    "\n",
    "total_ret=1+winners_ret-losers_ret\n",
    "\n",
    "\n",
    "\n",
    "\n",
    "#Benchmark: average monthly return of SP500\n",
    "#monthly returns for SP500\n",
    "spy_mo_old=spy.Close[:simulation_end].resample('M').apply(lambda x: np.exp(log_ret(x).sum()))\n",
    "spy_mo_new=spy.Close[simulation_end:].resample('M').apply(lambda x: np.exp(log_ret(x).sum()))\n",
    "#average monthly return for SP500\n",
    "spy_avg_old=np.exp(np.log(spy_mo_old).mean())\n",
    "spy_avg_new=np.exp(np.log(spy_mo_new).mean())\n"
   ]
  },
  {
   "cell_type": "code",
   "execution_count": 6,
   "id": "017c3183-37ae-4162-8d0e-154eb4ce6d90",
   "metadata": {},
   "outputs": [
    {
     "name": "stdout",
     "output_type": "stream",
     "text": [
      "past strategy return:  1.063\n",
      "past benchmark return:  1.016\n",
      "------------------------------------------\n",
      "test strategy return:  1.104\n",
      "test benchmark return:  0.98\n"
     ]
    }
   ],
   "source": [
    "print('past strategy return: ', round(total_past_ret, 3))\n",
    "print('past benchmark return: ', round(spy_avg_old,3))\n",
    "print('------------------------------------------')\n",
    "print('test strategy return: ', round(total_ret, 3))\n",
    "print('test benchmark return: ', round(spy_avg_new,3))\n"
   ]
  },
  {
   "cell_type": "code",
   "execution_count": null,
   "id": "e3782242-7908-48fe-9282-b49b1cb7009e",
   "metadata": {},
   "outputs": [],
   "source": []
  },
  {
   "cell_type": "code",
   "execution_count": null,
   "id": "d24c6408-ec17-4e3e-a475-690923eca9e0",
   "metadata": {},
   "outputs": [],
   "source": []
  },
  {
   "cell_type": "code",
   "execution_count": null,
   "id": "b7626a78-7f29-41d5-8a7d-bfb8af2f4eb9",
   "metadata": {},
   "outputs": [],
   "source": []
  },
  {
   "cell_type": "code",
   "execution_count": null,
   "id": "57dfcf5c-fbb0-47b9-815e-d50f23fad9c8",
   "metadata": {},
   "outputs": [],
   "source": []
  },
  {
   "cell_type": "code",
   "execution_count": null,
   "id": "df62a6e4-957e-4e20-8cb7-3a9f4d2e1ee5",
   "metadata": {},
   "outputs": [],
   "source": []
  },
  {
   "cell_type": "code",
   "execution_count": null,
   "id": "f97f6bab-9a14-45e0-948d-ac5dbcdcc2c9",
   "metadata": {},
   "outputs": [],
   "source": []
  },
  {
   "cell_type": "code",
   "execution_count": null,
   "id": "a9916c61-3697-4a7c-8afa-fbb34b73b3f4",
   "metadata": {},
   "outputs": [],
   "source": []
  },
  {
   "cell_type": "code",
   "execution_count": null,
   "id": "692aa0bd-816d-4982-a265-3370628a2c39",
   "metadata": {},
   "outputs": [],
   "source": []
  },
  {
   "cell_type": "code",
   "execution_count": null,
   "id": "c37a96f5",
   "metadata": {},
   "outputs": [],
   "source": []
  },
  {
   "cell_type": "code",
   "execution_count": null,
   "id": "43284821",
   "metadata": {},
   "outputs": [],
   "source": []
  },
  {
   "cell_type": "code",
   "execution_count": null,
   "id": "a3bb1a35",
   "metadata": {},
   "outputs": [],
   "source": []
  },
  {
   "cell_type": "code",
   "execution_count": null,
   "id": "6fc2230a",
   "metadata": {},
   "outputs": [],
   "source": []
  },
  {
   "cell_type": "code",
   "execution_count": null,
   "id": "29335fee",
   "metadata": {},
   "outputs": [],
   "source": []
  },
  {
   "cell_type": "code",
   "execution_count": null,
   "id": "46446858-3595-42b5-883c-d989dc62863c",
   "metadata": {},
   "outputs": [],
   "source": []
  },
  {
   "cell_type": "code",
   "execution_count": 121,
   "id": "3a4a5415-ea49-4eb5-ae88-7f64b13108cb",
   "metadata": {},
   "outputs": [],
   "source": []
  },
  {
   "cell_type": "code",
   "execution_count": null,
   "id": "5dd3bef9-2705-4873-9485-4b8c2f8d70e9",
   "metadata": {},
   "outputs": [],
   "source": []
  },
  {
   "cell_type": "code",
   "execution_count": null,
   "id": "5c8ce0c3-af42-4b63-b25d-a0103d9ae611",
   "metadata": {},
   "outputs": [],
   "source": []
  },
  {
   "cell_type": "code",
   "execution_count": 263,
   "id": "2144924c-60f9-4ba5-a808-70ef10afb981",
   "metadata": {},
   "outputs": [],
   "source": []
  },
  {
   "cell_type": "code",
   "execution_count": null,
   "id": "1ab45cd3-9d69-4b30-823a-78f4eea29892",
   "metadata": {},
   "outputs": [],
   "source": []
  },
  {
   "cell_type": "code",
   "execution_count": null,
   "id": "aad20d9a-a0e6-4b10-b9f1-00e357aabda5",
   "metadata": {},
   "outputs": [],
   "source": []
  },
  {
   "cell_type": "code",
   "execution_count": 317,
   "id": "b0035f8b-ad83-4a9d-b3ec-55dc95c704ce",
   "metadata": {},
   "outputs": [],
   "source": []
  },
  {
   "cell_type": "code",
   "execution_count": null,
   "id": "3b3dfd35-bd7c-4f6c-984c-62f7a54e5f40",
   "metadata": {},
   "outputs": [],
   "source": []
  },
  {
   "cell_type": "code",
   "execution_count": null,
   "id": "d53f6645-5da7-47eb-a21a-aae29aa05266",
   "metadata": {},
   "outputs": [],
   "source": []
  },
  {
   "cell_type": "code",
   "execution_count": null,
   "id": "b255afe2-18fb-4b51-b0ed-238a2aa52671",
   "metadata": {},
   "outputs": [],
   "source": []
  },
  {
   "cell_type": "code",
   "execution_count": null,
   "id": "f5697b0a-9d8e-4d74-b4f6-84e52025e6d5",
   "metadata": {},
   "outputs": [],
   "source": []
  }
 ],
 "metadata": {
  "kernelspec": {
   "display_name": "Python 3 (ipykernel)",
   "language": "python",
   "name": "python3"
  },
  "language_info": {
   "codemirror_mode": {
    "name": "ipython",
    "version": 3
   },
   "file_extension": ".py",
   "mimetype": "text/x-python",
   "name": "python",
   "nbconvert_exporter": "python",
   "pygments_lexer": "ipython3",
   "version": "3.9.13"
  }
 },
 "nbformat": 4,
 "nbformat_minor": 5
}
