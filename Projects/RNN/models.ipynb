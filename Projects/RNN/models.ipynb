{
 "cells": [
  {
   "cell_type": "code",
   "execution_count": null,
   "id": "904d88c5-3cf3-427f-9f52-971f78e85329",
   "metadata": {},
   "outputs": [],
   "source": [
    "import keras\n",
    "from keras.models import Sequential\n",
    "from keras.layers import Input,SimpleRNN, Dense, TimeDistributed, LSTM,Flatten\n",
    "\n",
    "\n",
    "models_to_fit=[]\n",
    "\n",
    "\n",
    "#benchmark\n",
    "linreg=Sequential([\n",
    "    Input(shape=(use_steps,1)),\n",
    "    Flatten(),\n",
    "    Dense(1)\n",
    "])\n",
    "linreg\n",
    "linreg.name='linreg'\n",
    "models_to_fit.append(linreg)\n",
    "\n",
    "\n",
    "\n",
    "\n",
    "model1=Sequential([\n",
    "    Input(shape=(use_steps,1)),\n",
    "    LSTM(units=20,return_sequences=False),\n",
    "    Dense(1)  \n",
    "])\n",
    "model1.name='model1'\n",
    "models_to_fit.append(model1)\n",
    "\n",
    "\n",
    "\n",
    "model2=Sequential([\n",
    "    Input(shape=(use_steps,1)),\n",
    "    SimpleRNN(units=200,return_sequences=True),\n",
    "    SimpleRNN(units=100,return_sequences=True),\n",
    "    SimpleRNN(units=100,return_sequences=True),    \n",
    "    SimpleRNN(units=1)  \n",
    "])\n",
    "model2.name='model2'\n",
    "models_to_fit.append(model2)"
   ]
  },
  {
   "cell_type": "code",
   "execution_count": null,
   "id": "4d0d8225-78c0-49fb-82fb-3a88cfad9553",
   "metadata": {},
   "outputs": [],
   "source": []
  }
 ],
 "metadata": {
  "kernelspec": {
   "display_name": "Python 3 (ipykernel)",
   "language": "python",
   "name": "python3"
  },
  "language_info": {
   "codemirror_mode": {
    "name": "ipython",
    "version": 3
   },
   "file_extension": ".py",
   "mimetype": "text/x-python",
   "name": "python",
   "nbconvert_exporter": "python",
   "pygments_lexer": "ipython3",
   "version": "3.12.4"
  }
 },
 "nbformat": 4,
 "nbformat_minor": 5
}
